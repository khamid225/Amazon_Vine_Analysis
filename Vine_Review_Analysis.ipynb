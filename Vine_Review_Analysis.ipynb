{
  "nbformat": 4,
  "nbformat_minor": 0,
  "metadata": {
    "colab": {
      "name": "Vine_Review_Analysis.ipynb",
      "provenance": [],
      "collapsed_sections": [],
      "authorship_tag": "ABX9TyP5WjjyDtCZj2nQTcEcYIPW"
    },
    "kernelspec": {
      "name": "python3",
      "display_name": "Python 3"
    },
    "language_info": {
      "name": "python"
    }
  },
  "cells": [
    {
      "cell_type": "code",
      "metadata": {
        "id": "ryLbT_WX4w9S"
      },
      "source": [
        "import pandas as pd"
      ],
      "execution_count": null,
      "outputs": []
    },
    {
      "cell_type": "code",
      "metadata": {
        "id": "ylN0ZOIk491d"
      },
      "source": [
        "filelocation = '/vinetable.csv'"
      ],
      "execution_count": null,
      "outputs": []
    },
    {
      "cell_type": "code",
      "metadata": {
        "colab": {
          "base_uri": "https://localhost:8080/"
        },
        "id": "4TyLlCpE5syg",
        "outputId": "ce2af5fe-a833-4a99-fd3a-d7e439835761"
      },
      "source": [
        "df = pd.read_csv (filelocation)\n",
        "print(df)"
      ],
      "execution_count": null,
      "outputs": [
        {
          "output_type": "stream",
          "name": "stdout",
          "text": [
            "             review_id  star_rating  ...  vine  verified_purchase\n",
            "0        RMDCHWD0Y5OZ9          3.0  ...     N                  N\n",
            "1        RZSL0BALIYUNU          5.0  ...     N                  Y\n",
            "2        RIZR67JKUDBI0          3.0  ...     N                  Y\n",
            "3       R27HL570VNL85F          5.0  ...     N                  Y\n",
            "4       R34EBU9QDWJ1GD          5.0  ...     N                  Y\n",
            "...                ...          ...  ...   ...                ...\n",
            "904760   R6MDTUK723YPY          4.0  ...     N                  N\n",
            "904761  R10B4417NCK98O          5.0  ...     N                  N\n",
            "904762  R3V2A0GUZ3JAQ4          4.0  ...     N                  N\n",
            "904763  R1VYXC7FFG4LGH          4.0  ...     N                  N\n",
            "904764  R2XJJXFZOM36V5          5.0  ...     N                  N\n",
            "\n",
            "[904765 rows x 6 columns]\n"
          ]
        }
      ]
    },
    {
      "cell_type": "code",
      "metadata": {
        "id": "8FxM3U_X6Lxw"
      },
      "source": [
        "df1 = df[df['total_votes']>=20]"
      ],
      "execution_count": null,
      "outputs": []
    },
    {
      "cell_type": "code",
      "metadata": {
        "colab": {
          "base_uri": "https://localhost:8080/",
          "height": 419
        },
        "id": "3rD5fR6n7Gc7",
        "outputId": "5dc1ef1a-786c-4a1d-dcf0-e08b10c85804"
      },
      "source": [
        "df1"
      ],
      "execution_count": null,
      "outputs": [
        {
          "output_type": "execute_result",
          "data": {
            "text/html": [
              "<div>\n",
              "<style scoped>\n",
              "    .dataframe tbody tr th:only-of-type {\n",
              "        vertical-align: middle;\n",
              "    }\n",
              "\n",
              "    .dataframe tbody tr th {\n",
              "        vertical-align: top;\n",
              "    }\n",
              "\n",
              "    .dataframe thead th {\n",
              "        text-align: right;\n",
              "    }\n",
              "</style>\n",
              "<table border=\"1\" class=\"dataframe\">\n",
              "  <thead>\n",
              "    <tr style=\"text-align: right;\">\n",
              "      <th></th>\n",
              "      <th>review_id</th>\n",
              "      <th>star_rating</th>\n",
              "      <th>helpful_votes</th>\n",
              "      <th>total_votes</th>\n",
              "      <th>vine</th>\n",
              "      <th>verified_purchase</th>\n",
              "    </tr>\n",
              "  </thead>\n",
              "  <tbody>\n",
              "    <tr>\n",
              "      <th>28</th>\n",
              "      <td>R2243Y3OD8U6KQ</td>\n",
              "      <td>5.0</td>\n",
              "      <td>47.0</td>\n",
              "      <td>61.0</td>\n",
              "      <td>N</td>\n",
              "      <td>N</td>\n",
              "    </tr>\n",
              "    <tr>\n",
              "      <th>85</th>\n",
              "      <td>R2TGT0CDTCAAHW</td>\n",
              "      <td>5.0</td>\n",
              "      <td>21.0</td>\n",
              "      <td>23.0</td>\n",
              "      <td>N</td>\n",
              "      <td>Y</td>\n",
              "    </tr>\n",
              "    <tr>\n",
              "      <th>457</th>\n",
              "      <td>RX4D22YSXEF4P</td>\n",
              "      <td>1.0</td>\n",
              "      <td>37.0</td>\n",
              "      <td>38.0</td>\n",
              "      <td>N</td>\n",
              "      <td>Y</td>\n",
              "    </tr>\n",
              "    <tr>\n",
              "      <th>1028</th>\n",
              "      <td>R3FL2NTLFUSPTQ</td>\n",
              "      <td>5.0</td>\n",
              "      <td>33.0</td>\n",
              "      <td>37.0</td>\n",
              "      <td>N</td>\n",
              "      <td>N</td>\n",
              "    </tr>\n",
              "    <tr>\n",
              "      <th>1039</th>\n",
              "      <td>R3QTP3YNZXAPPF</td>\n",
              "      <td>3.0</td>\n",
              "      <td>23.0</td>\n",
              "      <td>24.0</td>\n",
              "      <td>N</td>\n",
              "      <td>Y</td>\n",
              "    </tr>\n",
              "    <tr>\n",
              "      <th>...</th>\n",
              "      <td>...</td>\n",
              "      <td>...</td>\n",
              "      <td>...</td>\n",
              "      <td>...</td>\n",
              "      <td>...</td>\n",
              "      <td>...</td>\n",
              "    </tr>\n",
              "    <tr>\n",
              "      <th>904759</th>\n",
              "      <td>R2EJ952S3YK254</td>\n",
              "      <td>4.0</td>\n",
              "      <td>46.0</td>\n",
              "      <td>47.0</td>\n",
              "      <td>N</td>\n",
              "      <td>N</td>\n",
              "    </tr>\n",
              "    <tr>\n",
              "      <th>904760</th>\n",
              "      <td>R6MDTUK723YPY</td>\n",
              "      <td>4.0</td>\n",
              "      <td>143.0</td>\n",
              "      <td>148.0</td>\n",
              "      <td>N</td>\n",
              "      <td>N</td>\n",
              "    </tr>\n",
              "    <tr>\n",
              "      <th>904761</th>\n",
              "      <td>R10B4417NCK98O</td>\n",
              "      <td>5.0</td>\n",
              "      <td>24.0</td>\n",
              "      <td>24.0</td>\n",
              "      <td>N</td>\n",
              "      <td>N</td>\n",
              "    </tr>\n",
              "    <tr>\n",
              "      <th>904762</th>\n",
              "      <td>R3V2A0GUZ3JAQ4</td>\n",
              "      <td>4.0</td>\n",
              "      <td>27.0</td>\n",
              "      <td>29.0</td>\n",
              "      <td>N</td>\n",
              "      <td>N</td>\n",
              "    </tr>\n",
              "    <tr>\n",
              "      <th>904763</th>\n",
              "      <td>R1VYXC7FFG4LGH</td>\n",
              "      <td>4.0</td>\n",
              "      <td>46.0</td>\n",
              "      <td>49.0</td>\n",
              "      <td>N</td>\n",
              "      <td>N</td>\n",
              "    </tr>\n",
              "  </tbody>\n",
              "</table>\n",
              "<p>16520 rows × 6 columns</p>\n",
              "</div>"
            ],
            "text/plain": [
              "             review_id  star_rating  ...  vine  verified_purchase\n",
              "28      R2243Y3OD8U6KQ          5.0  ...     N                  N\n",
              "85      R2TGT0CDTCAAHW          5.0  ...     N                  Y\n",
              "457      RX4D22YSXEF4P          1.0  ...     N                  Y\n",
              "1028    R3FL2NTLFUSPTQ          5.0  ...     N                  N\n",
              "1039    R3QTP3YNZXAPPF          3.0  ...     N                  Y\n",
              "...                ...          ...  ...   ...                ...\n",
              "904759  R2EJ952S3YK254          4.0  ...     N                  N\n",
              "904760   R6MDTUK723YPY          4.0  ...     N                  N\n",
              "904761  R10B4417NCK98O          5.0  ...     N                  N\n",
              "904762  R3V2A0GUZ3JAQ4          4.0  ...     N                  N\n",
              "904763  R1VYXC7FFG4LGH          4.0  ...     N                  N\n",
              "\n",
              "[16520 rows x 6 columns]"
            ]
          },
          "metadata": {},
          "execution_count": 9
        }
      ]
    },
    {
      "cell_type": "code",
      "metadata": {
        "colab": {
          "base_uri": "https://localhost:8080/",
          "height": 419
        },
        "id": "nKydg52s7N6A",
        "outputId": "bd99dc39-60f1-448d-bc31-c14be0ba6a66"
      },
      "source": [
        "df2 = df1[df1['helpful_votes']/df1['total_votes']>=0.5]\n",
        "df2"
      ],
      "execution_count": null,
      "outputs": [
        {
          "output_type": "execute_result",
          "data": {
            "text/html": [
              "<div>\n",
              "<style scoped>\n",
              "    .dataframe tbody tr th:only-of-type {\n",
              "        vertical-align: middle;\n",
              "    }\n",
              "\n",
              "    .dataframe tbody tr th {\n",
              "        vertical-align: top;\n",
              "    }\n",
              "\n",
              "    .dataframe thead th {\n",
              "        text-align: right;\n",
              "    }\n",
              "</style>\n",
              "<table border=\"1\" class=\"dataframe\">\n",
              "  <thead>\n",
              "    <tr style=\"text-align: right;\">\n",
              "      <th></th>\n",
              "      <th>review_id</th>\n",
              "      <th>star_rating</th>\n",
              "      <th>helpful_votes</th>\n",
              "      <th>total_votes</th>\n",
              "      <th>vine</th>\n",
              "      <th>verified_purchase</th>\n",
              "    </tr>\n",
              "  </thead>\n",
              "  <tbody>\n",
              "    <tr>\n",
              "      <th>28</th>\n",
              "      <td>R2243Y3OD8U6KQ</td>\n",
              "      <td>5.0</td>\n",
              "      <td>47.0</td>\n",
              "      <td>61.0</td>\n",
              "      <td>N</td>\n",
              "      <td>N</td>\n",
              "    </tr>\n",
              "    <tr>\n",
              "      <th>85</th>\n",
              "      <td>R2TGT0CDTCAAHW</td>\n",
              "      <td>5.0</td>\n",
              "      <td>21.0</td>\n",
              "      <td>23.0</td>\n",
              "      <td>N</td>\n",
              "      <td>Y</td>\n",
              "    </tr>\n",
              "    <tr>\n",
              "      <th>457</th>\n",
              "      <td>RX4D22YSXEF4P</td>\n",
              "      <td>1.0</td>\n",
              "      <td>37.0</td>\n",
              "      <td>38.0</td>\n",
              "      <td>N</td>\n",
              "      <td>Y</td>\n",
              "    </tr>\n",
              "    <tr>\n",
              "      <th>1028</th>\n",
              "      <td>R3FL2NTLFUSPTQ</td>\n",
              "      <td>5.0</td>\n",
              "      <td>33.0</td>\n",
              "      <td>37.0</td>\n",
              "      <td>N</td>\n",
              "      <td>N</td>\n",
              "    </tr>\n",
              "    <tr>\n",
              "      <th>1039</th>\n",
              "      <td>R3QTP3YNZXAPPF</td>\n",
              "      <td>3.0</td>\n",
              "      <td>23.0</td>\n",
              "      <td>24.0</td>\n",
              "      <td>N</td>\n",
              "      <td>Y</td>\n",
              "    </tr>\n",
              "    <tr>\n",
              "      <th>...</th>\n",
              "      <td>...</td>\n",
              "      <td>...</td>\n",
              "      <td>...</td>\n",
              "      <td>...</td>\n",
              "      <td>...</td>\n",
              "      <td>...</td>\n",
              "    </tr>\n",
              "    <tr>\n",
              "      <th>904759</th>\n",
              "      <td>R2EJ952S3YK254</td>\n",
              "      <td>4.0</td>\n",
              "      <td>46.0</td>\n",
              "      <td>47.0</td>\n",
              "      <td>N</td>\n",
              "      <td>N</td>\n",
              "    </tr>\n",
              "    <tr>\n",
              "      <th>904760</th>\n",
              "      <td>R6MDTUK723YPY</td>\n",
              "      <td>4.0</td>\n",
              "      <td>143.0</td>\n",
              "      <td>148.0</td>\n",
              "      <td>N</td>\n",
              "      <td>N</td>\n",
              "    </tr>\n",
              "    <tr>\n",
              "      <th>904761</th>\n",
              "      <td>R10B4417NCK98O</td>\n",
              "      <td>5.0</td>\n",
              "      <td>24.0</td>\n",
              "      <td>24.0</td>\n",
              "      <td>N</td>\n",
              "      <td>N</td>\n",
              "    </tr>\n",
              "    <tr>\n",
              "      <th>904762</th>\n",
              "      <td>R3V2A0GUZ3JAQ4</td>\n",
              "      <td>4.0</td>\n",
              "      <td>27.0</td>\n",
              "      <td>29.0</td>\n",
              "      <td>N</td>\n",
              "      <td>N</td>\n",
              "    </tr>\n",
              "    <tr>\n",
              "      <th>904763</th>\n",
              "      <td>R1VYXC7FFG4LGH</td>\n",
              "      <td>4.0</td>\n",
              "      <td>46.0</td>\n",
              "      <td>49.0</td>\n",
              "      <td>N</td>\n",
              "      <td>N</td>\n",
              "    </tr>\n",
              "  </tbody>\n",
              "</table>\n",
              "<p>14537 rows × 6 columns</p>\n",
              "</div>"
            ],
            "text/plain": [
              "             review_id  star_rating  ...  vine  verified_purchase\n",
              "28      R2243Y3OD8U6KQ          5.0  ...     N                  N\n",
              "85      R2TGT0CDTCAAHW          5.0  ...     N                  Y\n",
              "457      RX4D22YSXEF4P          1.0  ...     N                  Y\n",
              "1028    R3FL2NTLFUSPTQ          5.0  ...     N                  N\n",
              "1039    R3QTP3YNZXAPPF          3.0  ...     N                  Y\n",
              "...                ...          ...  ...   ...                ...\n",
              "904759  R2EJ952S3YK254          4.0  ...     N                  N\n",
              "904760   R6MDTUK723YPY          4.0  ...     N                  N\n",
              "904761  R10B4417NCK98O          5.0  ...     N                  N\n",
              "904762  R3V2A0GUZ3JAQ4          4.0  ...     N                  N\n",
              "904763  R1VYXC7FFG4LGH          4.0  ...     N                  N\n",
              "\n",
              "[14537 rows x 6 columns]"
            ]
          },
          "metadata": {},
          "execution_count": 13
        }
      ]
    },
    {
      "cell_type": "code",
      "metadata": {
        "id": "dKO7KBG5AGPe"
      },
      "source": [
        "vineYdf = df2[df2['vine']=='Y']\n",
        "vineNdf = df2[df2['vine']=='N']"
      ],
      "execution_count": null,
      "outputs": []
    },
    {
      "cell_type": "code",
      "metadata": {
        "colab": {
          "base_uri": "https://localhost:8080/"
        },
        "id": "Ktsm8gn6AwyP",
        "outputId": "401c9cd2-e5fb-4472-8dea-b6b82dc4db00"
      },
      "source": [
        "len(vineYdf)"
      ],
      "execution_count": null,
      "outputs": [
        {
          "output_type": "execute_result",
          "data": {
            "text/plain": [
              "60"
            ]
          },
          "metadata": {},
          "execution_count": 18
        }
      ]
    },
    {
      "cell_type": "code",
      "metadata": {
        "colab": {
          "base_uri": "https://localhost:8080/"
        },
        "id": "vCzBNK2MA175",
        "outputId": "e328ab77-73ad-4760-e157-d0078d8c50d0"
      },
      "source": [
        "len(vineNdf)"
      ],
      "execution_count": null,
      "outputs": [
        {
          "output_type": "execute_result",
          "data": {
            "text/plain": [
              "14477"
            ]
          },
          "metadata": {},
          "execution_count": 19
        }
      ]
    },
    {
      "cell_type": "markdown",
      "metadata": {
        "id": "uF-R45FOB13V"
      },
      "source": [
        "## Total number of reviews"
      ]
    },
    {
      "cell_type": "code",
      "metadata": {
        "colab": {
          "base_uri": "https://localhost:8080/"
        },
        "id": "9kbe-gA-B09Q",
        "outputId": "24f688ac-848f-4f6d-844e-b87fd29c09b3"
      },
      "source": [
        "len(df)"
      ],
      "execution_count": null,
      "outputs": [
        {
          "output_type": "execute_result",
          "data": {
            "text/plain": [
              "904765"
            ]
          },
          "metadata": {},
          "execution_count": 20
        }
      ]
    },
    {
      "cell_type": "markdown",
      "metadata": {
        "id": "bVZ3_4h5CSno"
      },
      "source": [
        "## Number of 5 star reviews"
      ]
    },
    {
      "cell_type": "code",
      "metadata": {
        "colab": {
          "base_uri": "https://localhost:8080/"
        },
        "id": "QzUFwYmjCYBI",
        "outputId": "12e5e54c-427e-47ac-eb7b-3614b8605573"
      },
      "source": [
        "len(df[df['star_rating']==5])"
      ],
      "execution_count": null,
      "outputs": [
        {
          "output_type": "execute_result",
          "data": {
            "text/plain": [
              "572916"
            ]
          },
          "metadata": {},
          "execution_count": 22
        }
      ]
    },
    {
      "cell_type": "code",
      "metadata": {
        "colab": {
          "base_uri": "https://localhost:8080/"
        },
        "id": "lOxmzCIRDi3P",
        "outputId": "dda906c6-8d20-48d9-a153-064926e5afb0"
      },
      "source": [
        "len(vineYdf[vineYdf['star_rating']==5])"
      ],
      "execution_count": null,
      "outputs": [
        {
          "output_type": "execute_result",
          "data": {
            "text/plain": [
              "34"
            ]
          },
          "metadata": {},
          "execution_count": 26
        }
      ]
    },
    {
      "cell_type": "code",
      "metadata": {
        "colab": {
          "base_uri": "https://localhost:8080/"
        },
        "id": "OLm4cZz1FOgN",
        "outputId": "ae3f6a2d-4829-45ed-989a-7d5bc144aa8d"
      },
      "source": [
        "len(vineNdf[vineNdf['star_rating']==5])"
      ],
      "execution_count": null,
      "outputs": [
        {
          "output_type": "execute_result",
          "data": {
            "text/plain": [
              "8212"
            ]
          },
          "metadata": {},
          "execution_count": 31
        }
      ]
    },
    {
      "cell_type": "code",
      "metadata": {
        "colab": {
          "base_uri": "https://localhost:8080/"
        },
        "id": "VK9nhz36EpHw",
        "outputId": "7b8281d7-3769-4cd6-a6bd-54f50866d957"
      },
      "source": [
        "# % of 5 star in VINE Y\n",
        "len(vineYdf[vineYdf['star_rating']==5]) / len(vineYdf) * 100"
      ],
      "execution_count": null,
      "outputs": [
        {
          "output_type": "execute_result",
          "data": {
            "text/plain": [
              "56.666666666666664"
            ]
          },
          "metadata": {},
          "execution_count": 28
        }
      ]
    },
    {
      "cell_type": "code",
      "metadata": {
        "colab": {
          "base_uri": "https://localhost:8080/"
        },
        "id": "GMECTYGUE91E",
        "outputId": "a20346ce-3f62-4606-aeaf-a52d8c086a04"
      },
      "source": [
        "# % of 5 star in VINE N\n",
        "len(vineNdf[vineNdf['star_rating']==5]) / len(vineNdf) * 100"
      ],
      "execution_count": null,
      "outputs": [
        {
          "output_type": "execute_result",
          "data": {
            "text/plain": [
              "56.72445948746287"
            ]
          },
          "metadata": {},
          "execution_count": 29
        }
      ]
    }
  ]
}